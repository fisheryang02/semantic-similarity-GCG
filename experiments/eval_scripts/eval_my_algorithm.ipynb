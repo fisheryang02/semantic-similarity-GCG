{
 "cells": [
  {
   "cell_type": "code",
   "execution_count": 24,
   "metadata": {},
   "outputs": [
    {
     "data": {
      "text/plain": [
       "{'keyword matching on Llama-2': [[0, 0, 10, 14, 14, 35, 35, 35, 35, 35, 35],\n",
       "  [0, 1, 9, 26, 26, 26, 26, 26, 26, 26, 26],\n",
       "  [0, 0, 3, 6, 34, 34, 34, 34, 34, 34, 34],\n",
       "  [0, 1, 9, 7, 7, 9, 9, 9, 9, 9, 9],\n",
       "  [0, 0, 10, 10, 5, 5, 5, 5, 5, 7, 7],\n",
       "  [0, 0, 0, 0, 0, 0, 0, 0, 0, 0, 0]],\n",
       " 'keyword matching on vicuna': [[0, 6, 3, 3, 3, 3, 3, 3, 3, 4, 4],\n",
       "  [0, 10, 8, 11, 11, 10, 10, 10, 10, 10, 10],\n",
       "  [0, 4, 4, 6, 6, 5, 3, 3, 3, 9, 7],\n",
       "  [0, 8, 8, 8, 8, 8, 8, 8, 8, 8, 12],\n",
       "  [0, 6, 7, 7, 7, 6, 6, 6, 6, 6, 6],\n",
       "  [0, 7, 7, 8, 8, 8, 8, 8, 9, 9, 9]],\n",
       " 'HarmBench on Llama-2': [[0, 0, 5, 8, 8, 26, 26, 26, 26, 26, 26],\n",
       "  [0, 0, 6, 15, 15, 15, 15, 15, 15, 15, 15],\n",
       "  [0, 0, 0, 7, 32, 32, 32, 32, 32, 32, 32],\n",
       "  [0, 0, 7, 10, 10, 9, 9, 9, 9, 9, 9],\n",
       "  [0, 0, 13, 13, 4, 4, 4, 4, 4, 4, 4],\n",
       "  [0, 0, 0, 0, 0, 0, 0, 0, 0, 0, 0]],\n",
       " 'HarmBench on vicuna': [[0, 5, 3, 4, 4, 4, 4, 4, 4, 2, 2],\n",
       "  [0, 8, 9, 9, 9, 10, 10, 10, 10, 10, 10],\n",
       "  [0, 5, 5, 5, 5, 4, 4, 4, 4, 8, 8],\n",
       "  [0, 9, 9, 9, 6, 6, 6, 6, 6, 6, 11],\n",
       "  [0, 7, 7, 7, 7, 6, 6, 6, 6, 4, 4],\n",
       "  [0, 6, 6, 10, 10, 10, 10, 10, 8, 8, 8]],\n",
       " 'Llama Guard on Llama-2': [[0, 0, 5, 14, 14, 35, 35, 35, 35, 35, 35],\n",
       "  [0, 0, 6, 18, 18, 18, 18, 18, 18, 18, 18],\n",
       "  [0, 0, 1, 3, 26, 26, 26, 26, 26, 26, 26],\n",
       "  [0, 1, 12, 9, 9, 20, 20, 20, 20, 20, 20],\n",
       "  [0, 0, 5, 5, 1, 1, 1, 1, 1, 2, 2],\n",
       "  [0, 0, 0, 0, 0, 0, 0, 0, 0, 0, 0]],\n",
       " 'Llama Guard on vicuna': [[0, 0, 0, 0, 0, 0, 0, 0, 0, 0, 0],\n",
       "  [0, 0, 0, 0, 0, 1, 1, 1, 1, 1, 1],\n",
       "  [0, 0, 0, 0, 0, 0, 0, 0, 0, 0, 0],\n",
       "  [0, 1, 1, 1, 1, 1, 1, 1, 1, 1, 1],\n",
       "  [0, 0, 1, 1, 1, 0, 0, 0, 0, 0, 0],\n",
       "  [0, 1, 1, 2, 2, 2, 2, 2, 1, 1, 1]]}"
      ]
     },
     "execution_count": 24,
     "metadata": {},
     "output_type": "execute_result"
    }
   ],
   "source": [
    "#多个\n",
    "import re\n",
    "import os\n",
    "import numpy as np\n",
    "import matplotlib.pyplot as plt\n",
    "from matplotlib import rcParams\n",
    "rcParams['font.family'] = 'Times New Roman'\n",
    "rcParams['font.size'] = 10  # 替换成你想要的字体大小\n",
    "# 定义数据\n",
    "\n",
    "eval_methods = ['kw_matching', 'harmbench','llamaguard']\n",
    "models=['llama2','vicuna']\n",
    "folders = ['_mean']\n",
    "\n",
    "average={}\n",
    "\n",
    "# 创建2x2子图\n",
    "# 使用for循环绘制每个子图\n",
    "for i, eval_method in enumerate(eval_methods):\n",
    "    for j, model in enumerate(models):\n",
    "        newmodel=model\n",
    "        neweval_method=eval_method\n",
    "        if model=='llama2':\n",
    "            newmodel='Llama-2'\n",
    "        if eval_method=='kw_matching':\n",
    "            neweval_method='keyword matching'\n",
    "        elif eval_method=='harmbench':\n",
    "            neweval_method='HarmBench'\n",
    "        elif eval_method=='llamaguard':\n",
    "            neweval_method='Llama Guard'\n",
    "        average[neweval_method+' on '+newmodel]=[]\n",
    "        for folder in folders:\n",
    "            path='/home/yjj/project/llm-attacks/experiments/'+model+folder+'/'\n",
    "            rounds=os.listdir(path)\n",
    "            dirpaths=[path + round_+'/'+'eval_scripts/' +eval_method for round_ in rounds]\n",
    "            for dirpath in dirpaths:\n",
    "                for path in os.listdir(dirpath):\n",
    "                    if path.endswith('log') and path.startswith('eval'):\n",
    "                        al=int(re.findall(r'(?:alpha|search)_(\\d+)',path)[0])\n",
    "                        with open(os.path.join(dirpath,path),'r') as alpha:\n",
    "                            content=alpha.read()\n",
    "                            res=re.findall(r'Test Step (\\d+)\\/\\d+ \\| Jailbroken (\\d+)\\/(\\d+)',content)\n",
    "                            res=[[0,0,0]]+list(map(lambda x:[int(x[0]),int(x[1]),int(x[2])],res))\n",
    "                            prev=res[0][1]\n",
    "                            for k in range(len(res)):\n",
    "                                if res[k][2]==0:\n",
    "                                    res[k][1]=prev\n",
    "                                prev=res[k][1]\n",
    "                        if(len(res)!=11):\n",
    "                            print(path)\n",
    "                        average[neweval_method+' on '+newmodel].append([k[1] for k in res])\n",
    "average"
   ]
  },
  {
   "cell_type": "code",
   "execution_count": 25,
   "metadata": {},
   "outputs": [
    {
     "data": {
      "text/plain": [
       "{'keyword matching on Llama-2': [[0, 0, 2, 2, 2, 2, 2, 2, 2, 2, 2],\n",
       "  [0, 0, 1, 4, 1, 3, 3, 3, 3, 3, 3],\n",
       "  [0, 0, 0, 0, 0, 8, 8, 8, 8, 8, 8],\n",
       "  [0, 2, 0, 0, 0, 3, 3, 1, 1, 1, 1],\n",
       "  [0, 1, 1, 1, 1, 1, 1, 1, 1, 1, 1],\n",
       "  [0, 0, 0, 0, 0, 0, 0, 0, 0, 0, 0]],\n",
       " 'keyword matching on vicuna': [[0, 3, 3, 2, 2, 2, 2, 2, 2, 2, 7],\n",
       "  [0, 1, 1, 1, 1, 1, 2, 2, 2, 2, 5],\n",
       "  [0, 7, 6, 6, 6, 6, 6, 8, 6, 6, 6],\n",
       "  [0, 4, 5, 5, 5, 4, 3, 3, 3, 3, 3],\n",
       "  [0, 8, 15, 14, 14, 14, 8, 14, 14, 14, 14],\n",
       "  [0, 7, 7, 6, 3, 3, 3, 3, 3, 13, 9]],\n",
       " 'HarmBench on Llama-2': [[0, 0, 0, 0, 0, 0, 0, 0, 0, 0, 0],\n",
       "  [0, 0, 0, 1, 0, 1, 1, 1, 1, 1, 1],\n",
       "  [0, 1, 1, 1, 1, 6, 6, 6, 6, 6, 6],\n",
       "  [0, 2, 0, 0, 0, 2, 2, 0, 0, 0, 0],\n",
       "  [0, 0, 0, 0, 0, 0, 0, 0, 0, 0, 0],\n",
       "  [0, 0, 0, 0, 0, 0, 0, 0, 0, 0, 0]],\n",
       " 'HarmBench on vicuna': [[0, 3, 3, 2, 2, 2, 2, 2, 2, 2, 6],\n",
       "  [0, 1, 0, 1, 1, 1, 1, 1, 1, 1, 8],\n",
       "  [0, 7, 6, 6, 6, 6, 6, 7, 8, 8, 8],\n",
       "  [0, 6, 6, 6, 6, 4, 4, 4, 4, 4, 4],\n",
       "  [0, 10, 16, 15, 15, 15, 12, 17, 17, 17, 17],\n",
       "  [0, 7, 7, 7, 3, 3, 3, 3, 3, 15, 13]],\n",
       " 'Llama Guard on Llama-2': [[0, 0, 0, 0, 0, 0, 0, 0, 0, 0, 0],\n",
       "  [0, 0, 0, 0, 0, 1, 1, 1, 1, 1, 1],\n",
       "  [0, 0, 0, 0, 0, 6, 6, 6, 6, 6, 6],\n",
       "  [0, 0, 0, 0, 0, 1, 1, 0, 0, 0, 0],\n",
       "  [0, 0, 0, 0, 0, 0, 0, 0, 0, 0, 0],\n",
       "  [0, 0, 0, 0, 0, 0, 0, 0, 0, 0, 0]],\n",
       " 'Llama Guard on vicuna': [[0, 0, 0, 0, 0, 0, 0, 0, 0, 0, 0],\n",
       "  [0, 0, 0, 0, 0, 0, 0, 0, 0, 0, 1],\n",
       "  [0, 0, 0, 0, 0, 0, 0, 0, 0, 0, 0],\n",
       "  [0, 0, 0, 0, 0, 0, 0, 0, 0, 0, 0],\n",
       "  [0, 0, 2, 2, 2, 2, 0, 6, 6, 6, 6],\n",
       "  [0, 0, 0, 0, 0, 0, 0, 0, 0, 4, 2]]}"
      ]
     },
     "execution_count": 25,
     "metadata": {},
     "output_type": "execute_result"
    }
   ],
   "source": [
    "eval_methods = ['kw_matching', 'harmbench','llamaguard']\n",
    "models=['llama2','vicuna']\n",
    "folders = ['_lasthiddenstate']\n",
    "\n",
    "last={}\n",
    "\n",
    "# 创建2x2子图\n",
    "# 使用for循环绘制每个子图\n",
    "for i, eval_method in enumerate(eval_methods):\n",
    "    for j, model in enumerate(models):\n",
    "        newmodel=model\n",
    "        neweval_method=eval_method\n",
    "        if model=='llama2':\n",
    "            newmodel='Llama-2'\n",
    "        if eval_method=='kw_matching':\n",
    "            neweval_method='keyword matching'\n",
    "        elif eval_method=='harmbench':\n",
    "            neweval_method='HarmBench'\n",
    "        elif eval_method=='llamaguard':\n",
    "            neweval_method='Llama Guard'\n",
    "        last[neweval_method+' on '+newmodel]=[]\n",
    "        for folder in folders:\n",
    "            path='/home/yjj/project/llm-attacks/experiments/'+model+folder+'/'\n",
    "            rounds=os.listdir(path)\n",
    "            dirpaths=[path + round_+'/'+'eval_scripts/' +eval_method for round_ in rounds]\n",
    "            for dirpath in dirpaths:\n",
    "                for path in os.listdir(dirpath):\n",
    "                    if path.endswith('log') and path.startswith('eval'):\n",
    "                        al=int(re.findall(r'(?:alpha|search)_(\\d+)',path)[0])\n",
    "                        with open(os.path.join(dirpath,path),'r') as alpha:\n",
    "                            content=alpha.read()\n",
    "                            res=re.findall(r'Test Step (\\d+)\\/\\d+ \\| Jailbroken (\\d+)\\/(\\d+)',content)\n",
    "                            res=[[0,0,0]]+list(map(lambda x:[int(x[0]),int(x[1]),int(x[2])],res))\n",
    "                            prev=res[0][1]\n",
    "                            for k in range(len(res)):\n",
    "                                if res[k][2]==0:\n",
    "                                    res[k][1]=prev\n",
    "                                prev=res[k][1]\n",
    "                        if(len(res)!=11):\n",
    "                            print(path)\n",
    "                        last[neweval_method+' on '+newmodel].append([k[1] for k in res])\n",
    "last"
   ]
  },
  {
   "cell_type": "code",
   "execution_count": 26,
   "metadata": {},
   "outputs": [],
   "source": [
    "for k,v in average.items():\n",
    "    average[k]=np.array(v)"
   ]
  },
  {
   "cell_type": "code",
   "execution_count": 27,
   "metadata": {},
   "outputs": [],
   "source": [
    "for k,v in last.items():\n",
    "    last[k]=np.array(v)"
   ]
  },
  {
   "cell_type": "code",
   "execution_count": 28,
   "metadata": {},
   "outputs": [
    {
     "data": {
      "text/plain": [
       "[[(18.5, 2.5), (13.744695946679455, 2.6299556396765835)],\n",
       " [(8.0, 7.333333333333333), (2.6457513110645907, 3.4960294939005054)],\n",
       " [(14.333333333333334, 1.1666666666666667),\n",
       "  (11.469767022723502, 2.192157739660984)],\n",
       " [(7.166666666666667, 9.333333333333334),\n",
       "  (3.1841621957571333, 4.384315479321969)],\n",
       " [(16.833333333333332, 1.1666666666666667),\n",
       "  (12.442088070559361, 2.192157739660984)],\n",
       " [(0.5, 1.5), (0.5, 2.140872096444188)]]"
      ]
     },
     "execution_count": 28,
     "metadata": {},
     "output_type": "execute_result"
    }
   ],
   "source": [
    "\n",
    "data=[[(np.mean(average[k][:,-1]),np.mean(last[k][:,-1])),(np.std(average[k][:,-1]),np.std(last[k][:,-1]))] for k in average]\n",
    "data"
   ]
  },
  {
   "cell_type": "code",
   "execution_count": 29,
   "metadata": {},
   "outputs": [
    {
     "data": {
      "text/plain": [
       "[(18.5, 2.5), (13.744695946679455, 2.6299556396765835)]"
      ]
     },
     "execution_count": 29,
     "metadata": {},
     "output_type": "execute_result"
    }
   ],
   "source": [
    "data[0]"
   ]
  },
  {
   "cell_type": "code",
   "execution_count": 30,
   "metadata": {},
   "outputs": [
    {
     "data": {
      "text/plain": [
       "dict_keys(['keyword matching on Llama-2', 'keyword matching on vicuna', 'HarmBench on Llama-2', 'HarmBench on vicuna', 'Llama Guard on Llama-2', 'Llama Guard on vicuna'])"
      ]
     },
     "execution_count": 30,
     "metadata": {},
     "output_type": "execute_result"
    }
   ],
   "source": [
    "average.keys()"
   ]
  },
  {
   "cell_type": "code",
   "execution_count": 31,
   "metadata": {},
   "outputs": [
    {
     "name": "stdout",
     "output_type": "stream",
     "text": [
      "(18.5, 2.5) (13.744695946679455, 2.6299556396765835)\n",
      "18.5\n",
      "2.5\n",
      "(8.0, 7.333333333333333) (2.6457513110645907, 3.4960294939005054)\n",
      "8.0\n",
      "7.333333333333333\n",
      "(14.333333333333334, 1.1666666666666667) (11.469767022723502, 2.192157739660984)\n",
      "14.333333333333334\n",
      "1.1666666666666667\n",
      "(7.166666666666667, 9.333333333333334) (3.1841621957571333, 4.384315479321969)\n",
      "7.166666666666667\n",
      "9.333333333333334\n",
      "(16.833333333333332, 1.1666666666666667) (12.442088070559361, 2.192157739660984)\n",
      "16.833333333333332\n",
      "1.1666666666666667\n",
      "(0.5, 1.5) (0.5, 2.140872096444188)\n",
      "0.5\n",
      "1.5\n"
     ]
    },
    {
     "data": {
      "image/png": "[encoded data removed]",
      "text/plain": [
       "<Figure size 600x900 with 6 Axes>"
      ]
     },
     "metadata": {},
     "output_type": "display_data"
    }
   ],
   "source": [
    "import matplotlib.pyplot as plt\n",
    "import numpy as np\n",
    "\n",
    "\n",
    "data=[[(np.mean(average[k][:,-1]),np.mean(last[k][:,-1])),(np.std(average[k][:,-1]),np.std(last[k][:,-1]))] for k in average]\n",
    "data\n",
    "\n",
    "# 设置图的尺寸，每行两个图，总共三行\n",
    "fig, axes = plt.subplots(3, 2, figsize=(6, 9))\n",
    "\n",
    "\n",
    "# 设置每个柱状图的数据\n",
    "for i, ax in enumerate(axes.flat):\n",
    "    means, stds = data[i]\n",
    "    print(means,stds)\n",
    "    bars=ax.bar(np.arange(len(means)), means, yerr=stds,error_kw = {'ecolor' : '0.2', 'capsize' :6 })\n",
    "    ax.set_title(list(average.keys())[i])\n",
    "    ax.set_xticks(np.arange(len(means)))\n",
    "    ax.set_xticklabels(['mean', 'last'])\n",
    "    ax.set_ylim(0, 35)  # 你可以根据需要调整y轴的范围\n",
    "    ax.set_ylabel('ASR')\n",
    "    for bar in bars:\n",
    "        yval = bar.get_height()\n",
    "        print(yval)\n",
    "        ax.text(bar.get_x() + bar.get_width()*1/5, yval + 0.1, round(yval, 2),\n",
    "                ha='center', va='bottom')  # 在柱子顶部显示数值\n",
    "# 调整布局，使子图不重叠\n",
    "plt.tight_layout(rect=[0.05, 0.05, 1, 1])  # 调整以给全局标签留出空间\n",
    "plt.savefig('my_method.png')\n",
    "plt.show()\n"
   ]
  },
  {
   "cell_type": "code",
   "execution_count": null,
   "metadata": {},
   "outputs": [],
   "source": []
  }
 ],
 "metadata": {
  "kernelspec": {
   "display_name": "jailbreak",
   "language": "python",
   "name": "python3"
  },
  "language_info": {
   "codemirror_mode": {
    "name": "ipython",
    "version": 3
   },
   "file_extension": ".py",
   "mimetype": "text/x-python",
   "name": "python",
   "nbconvert_exporter": "python",
   "pygments_lexer": "ipython3",
   "version": "3.10.13"
  }
 },
 "nbformat": 4,
 "nbformat_minor": 2
}
